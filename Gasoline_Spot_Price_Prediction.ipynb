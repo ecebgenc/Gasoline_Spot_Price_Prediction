{
  "cells": [
    {
      "cell_type": "code",
      "execution_count": null,
      "metadata": {
        "id": "YjXjB9lWKQNA"
      },
      "outputs": [],
      "source": [
        "import itertools\n",
        "import warnings\n",
        "import numpy as np\n",
        "import pandas as pd\n",
        "import tensorflow as tf\n",
        "from tensorflow.keras.callbacks import EarlyStopping\n",
        "from matplotlib import pyplot as plt\n",
        "import seaborn as sns\n",
        "from sklearn.preprocessing import MinMaxScaler\n",
        "import math\n",
        "from sklearn.metrics import mean_squared_error\n",
        "import warnings\n",
        "warnings.filterwarnings('ignore')\n",
        "\n",
        "pd.set_option('display.max_columns', None)\n",
        "pd.set_option('display.width', 500)"
      ]
    },
    {
      "cell_type": "code",
      "execution_count": null,
      "metadata": {
        "id": "ko_i2gW6KLw4"
      },
      "outputs": [],
      "source": [
        "df = pd.read_excel(\"/content/Weekly_Natural_Gas_Spot_Price.xlsx\", index_col=\"Date\", header=0, parse_dates=True)"
      ]
    },
    {
      "cell_type": "code",
      "execution_count": null,
      "metadata": {
        "colab": {
          "base_uri": "https://localhost:8080/"
        },
        "id": "aU48ZKZFKXMO",
        "outputId": "5fef6d44-cdb4-483a-b552-c552a789f1d5"
      },
      "outputs": [
        {
          "name": "stdout",
          "output_type": "stream",
          "text": [
            "##################### Shape #####################\n",
            "(1360, 1)\n",
            "##################### Types #####################\n",
            "Weekly Henry Hub Natural Gas Spot Price (Dollars per Million Btu)    float64\n",
            "dtype: object\n",
            "##################### Head #####################\n",
            "            Weekly Henry Hub Natural Gas Spot Price (Dollars per Million Btu)\n",
            "Date                                                                         \n",
            "1997-01-10                                               3.79                \n",
            "1997-01-17                                               4.19                \n",
            "1997-01-24                                               2.98                \n",
            "1997-01-31                                               2.91                \n",
            "1997-02-07                                               2.53                \n",
            "1997-02-14                                               2.30                \n",
            "1997-02-21                                               1.91                \n",
            "1997-02-28                                               1.82                \n",
            "1997-03-07                                               1.86                \n",
            "1997-03-14                                               1.96                \n",
            "##################### Tail #####################\n",
            "            Weekly Henry Hub Natural Gas Spot Price (Dollars per Million Btu)\n",
            "Date                                                                         \n",
            "2022-12-02                                               6.06                \n",
            "2022-12-09                                               4.60                \n",
            "2022-12-16                                               6.78                \n",
            "2022-12-23                                               6.35                \n",
            "2022-12-30                                               4.06                \n",
            "2023-01-06                                               3.65                \n",
            "2023-01-13                                               3.46                \n",
            "2023-01-20                                               3.17                \n",
            "2023-01-27                                               3.08                \n",
            "2023-02-03                                               2.64                \n",
            "##################### NA #####################\n",
            "Weekly Henry Hub Natural Gas Spot Price (Dollars per Million Btu)    0\n",
            "dtype: int64\n",
            "##################### Quantiles #####################\n",
            "                                                    0.00  0.05   0.50   0.95     0.99   1.00\n",
            "Weekly Henry Hub Natural Gas Spot Price (Dollar...  1.34  1.91  3.615  8.311  12.2251  14.49\n"
          ]
        }
      ],
      "source": [
        "def check_df(dataframe, head=5):\n",
        "    print(\"##################### Shape #####################\")\n",
        "    print(dataframe.shape)\n",
        "    print(\"##################### Types #####################\")\n",
        "    print(dataframe.dtypes)\n",
        "    print(\"##################### Head #####################\")\n",
        "    print(dataframe.head(head))\n",
        "    print(\"##################### Tail #####################\")\n",
        "    print(dataframe.tail(head))\n",
        "    print(\"##################### NA #####################\")\n",
        "    print(dataframe.isnull().sum())\n",
        "    print(\"##################### Quantiles #####################\")\n",
        "    print(dataframe.quantile([0, 0.05, 0.50, 0.95, 0.99, 1]).T)\n",
        "\n",
        "check_df(df, head=10)"
      ]
    },
    {
      "cell_type": "code",
      "execution_count": null,
      "metadata": {
        "colab": {
          "base_uri": "https://localhost:8080/",
          "height": 455
        },
        "id": "SUgP72LzKhd3",
        "outputId": "1a47d5ba-7f49-4ba7-d4c1-395ff0379d10"
      },
      "outputs": [
        {
          "data": {
            "text/html": [
              "\n",
              "  <div id=\"df-23ec7817-fb2b-411e-808d-7cec9fd368f9\">\n",
              "    <div class=\"colab-df-container\">\n",
              "      <div>\n",
              "<style scoped>\n",
              "    .dataframe tbody tr th:only-of-type {\n",
              "        vertical-align: middle;\n",
              "    }\n",
              "\n",
              "    .dataframe tbody tr th {\n",
              "        vertical-align: top;\n",
              "    }\n",
              "\n",
              "    .dataframe thead th {\n",
              "        text-align: right;\n",
              "    }\n",
              "</style>\n",
              "<table border=\"1\" class=\"dataframe\">\n",
              "  <thead>\n",
              "    <tr style=\"text-align: right;\">\n",
              "      <th></th>\n",
              "      <th>Weekly Henry Hub Natural Gas Spot Price (Dollars per Million Btu)</th>\n",
              "    </tr>\n",
              "    <tr>\n",
              "      <th>Date</th>\n",
              "      <th></th>\n",
              "    </tr>\n",
              "  </thead>\n",
              "  <tbody>\n",
              "    <tr>\n",
              "      <th>1997-01-10</th>\n",
              "      <td>3.79</td>\n",
              "    </tr>\n",
              "    <tr>\n",
              "      <th>1997-01-17</th>\n",
              "      <td>4.19</td>\n",
              "    </tr>\n",
              "    <tr>\n",
              "      <th>1997-01-24</th>\n",
              "      <td>2.98</td>\n",
              "    </tr>\n",
              "    <tr>\n",
              "      <th>1997-01-31</th>\n",
              "      <td>2.91</td>\n",
              "    </tr>\n",
              "    <tr>\n",
              "      <th>1997-02-07</th>\n",
              "      <td>2.53</td>\n",
              "    </tr>\n",
              "    <tr>\n",
              "      <th>...</th>\n",
              "      <td>...</td>\n",
              "    </tr>\n",
              "    <tr>\n",
              "      <th>2023-01-06</th>\n",
              "      <td>3.65</td>\n",
              "    </tr>\n",
              "    <tr>\n",
              "      <th>2023-01-13</th>\n",
              "      <td>3.46</td>\n",
              "    </tr>\n",
              "    <tr>\n",
              "      <th>2023-01-20</th>\n",
              "      <td>3.17</td>\n",
              "    </tr>\n",
              "    <tr>\n",
              "      <th>2023-01-27</th>\n",
              "      <td>3.08</td>\n",
              "    </tr>\n",
              "    <tr>\n",
              "      <th>2023-02-03</th>\n",
              "      <td>2.64</td>\n",
              "    </tr>\n",
              "  </tbody>\n",
              "</table>\n",
              "<p>1360 rows × 1 columns</p>\n",
              "</div>\n",
              "      <button class=\"colab-df-convert\" onclick=\"convertToInteractive('df-23ec7817-fb2b-411e-808d-7cec9fd368f9')\"\n",
              "              title=\"Convert this dataframe to an interactive table.\"\n",
              "              style=\"display:none;\">\n",
              "        \n",
              "  <svg xmlns=\"http://www.w3.org/2000/svg\" height=\"24px\"viewBox=\"0 0 24 24\"\n",
              "       width=\"24px\">\n",
              "    <path d=\"M0 0h24v24H0V0z\" fill=\"none\"/>\n",
              "    <path d=\"M18.56 5.44l.94 2.06.94-2.06 2.06-.94-2.06-.94-.94-2.06-.94 2.06-2.06.94zm-11 1L8.5 8.5l.94-2.06 2.06-.94-2.06-.94L8.5 2.5l-.94 2.06-2.06.94zm10 10l.94 2.06.94-2.06 2.06-.94-2.06-.94-.94-2.06-.94 2.06-2.06.94z\"/><path d=\"M17.41 7.96l-1.37-1.37c-.4-.4-.92-.59-1.43-.59-.52 0-1.04.2-1.43.59L10.3 9.45l-7.72 7.72c-.78.78-.78 2.05 0 2.83L4 21.41c.39.39.9.59 1.41.59.51 0 1.02-.2 1.41-.59l7.78-7.78 2.81-2.81c.8-.78.8-2.07 0-2.86zM5.41 20L4 18.59l7.72-7.72 1.47 1.35L5.41 20z\"/>\n",
              "  </svg>\n",
              "      </button>\n",
              "      \n",
              "  <style>\n",
              "    .colab-df-container {\n",
              "      display:flex;\n",
              "      flex-wrap:wrap;\n",
              "      gap: 12px;\n",
              "    }\n",
              "\n",
              "    .colab-df-convert {\n",
              "      background-color: #E8F0FE;\n",
              "      border: none;\n",
              "      border-radius: 50%;\n",
              "      cursor: pointer;\n",
              "      display: none;\n",
              "      fill: #1967D2;\n",
              "      height: 32px;\n",
              "      padding: 0 0 0 0;\n",
              "      width: 32px;\n",
              "    }\n",
              "\n",
              "    .colab-df-convert:hover {\n",
              "      background-color: #E2EBFA;\n",
              "      box-shadow: 0px 1px 2px rgba(60, 64, 67, 0.3), 0px 1px 3px 1px rgba(60, 64, 67, 0.15);\n",
              "      fill: #174EA6;\n",
              "    }\n",
              "\n",
              "    [theme=dark] .colab-df-convert {\n",
              "      background-color: #3B4455;\n",
              "      fill: #D2E3FC;\n",
              "    }\n",
              "\n",
              "    [theme=dark] .colab-df-convert:hover {\n",
              "      background-color: #434B5C;\n",
              "      box-shadow: 0px 1px 3px 1px rgba(0, 0, 0, 0.15);\n",
              "      filter: drop-shadow(0px 1px 2px rgba(0, 0, 0, 0.3));\n",
              "      fill: #FFFFFF;\n",
              "    }\n",
              "  </style>\n",
              "\n",
              "      <script>\n",
              "        const buttonEl =\n",
              "          document.querySelector('#df-23ec7817-fb2b-411e-808d-7cec9fd368f9 button.colab-df-convert');\n",
              "        buttonEl.style.display =\n",
              "          google.colab.kernel.accessAllowed ? 'block' : 'none';\n",
              "\n",
              "        async function convertToInteractive(key) {\n",
              "          const element = document.querySelector('#df-23ec7817-fb2b-411e-808d-7cec9fd368f9');\n",
              "          const dataTable =\n",
              "            await google.colab.kernel.invokeFunction('convertToInteractive',\n",
              "                                                     [key], {});\n",
              "          if (!dataTable) return;\n",
              "\n",
              "          const docLinkHtml = 'Like what you see? Visit the ' +\n",
              "            '<a target=\"_blank\" href=https://colab.research.google.com/notebooks/data_table.ipynb>data table notebook</a>'\n",
              "            + ' to learn more about interactive tables.';\n",
              "          element.innerHTML = '';\n",
              "          dataTable['output_type'] = 'display_data';\n",
              "          await google.colab.output.renderOutput(dataTable, element);\n",
              "          const docLink = document.createElement('div');\n",
              "          docLink.innerHTML = docLinkHtml;\n",
              "          element.appendChild(docLink);\n",
              "        }\n",
              "      </script>\n",
              "    </div>\n",
              "  </div>\n",
              "  "
            ],
            "text/plain": [
              "            Weekly Henry Hub Natural Gas Spot Price (Dollars per Million Btu)\n",
              "Date                                                                         \n",
              "1997-01-10                                               3.79                \n",
              "1997-01-17                                               4.19                \n",
              "1997-01-24                                               2.98                \n",
              "1997-01-31                                               2.91                \n",
              "1997-02-07                                               2.53                \n",
              "...                                                       ...                \n",
              "2023-01-06                                               3.65                \n",
              "2023-01-13                                               3.46                \n",
              "2023-01-20                                               3.17                \n",
              "2023-01-27                                               3.08                \n",
              "2023-02-03                                               2.64                \n",
              "\n",
              "[1360 rows x 1 columns]"
            ]
          },
          "execution_count": 6,
          "metadata": {},
          "output_type": "execute_result"
        }
      ],
      "source": [
        "df_1 = df.copy()\n",
        "df_1"
      ]
    },
    {
      "cell_type": "code",
      "execution_count": null,
      "metadata": {
        "colab": {
          "base_uri": "https://localhost:8080/"
        },
        "id": "FJr891p2Kopf",
        "outputId": "260dfaa3-e0fb-4293-bfc4-e63ca5ea47a5"
      },
      "outputs": [
        {
          "data": {
            "text/plain": [
              "Index(['Weekly Henry Hub Natural Gas Spot Price (Dollars per Million Btu)'], dtype='object')"
            ]
          },
          "execution_count": 7,
          "metadata": {},
          "output_type": "execute_result"
        }
      ],
      "source": [
        "df.columns"
      ]
    },
    {
      "cell_type": "code",
      "execution_count": null,
      "metadata": {
        "colab": {
          "base_uri": "https://localhost:8080/",
          "height": 81
        },
        "id": "f7_8jedaKqli",
        "outputId": "41c9e5c0-bc03-4b0c-f269-dfe7a8f2bc3b"
      },
      "outputs": [
        {
          "data": {
            "text/html": [
              "\n",
              "  <div id=\"df-09344704-5691-4d83-9179-c7140f58cbc3\">\n",
              "    <div class=\"colab-df-container\">\n",
              "      <div>\n",
              "<style scoped>\n",
              "    .dataframe tbody tr th:only-of-type {\n",
              "        vertical-align: middle;\n",
              "    }\n",
              "\n",
              "    .dataframe tbody tr th {\n",
              "        vertical-align: top;\n",
              "    }\n",
              "\n",
              "    .dataframe thead th {\n",
              "        text-align: right;\n",
              "    }\n",
              "</style>\n",
              "<table border=\"1\" class=\"dataframe\">\n",
              "  <thead>\n",
              "    <tr style=\"text-align: right;\">\n",
              "      <th></th>\n",
              "      <th>count</th>\n",
              "      <th>mean</th>\n",
              "      <th>std</th>\n",
              "      <th>min</th>\n",
              "      <th>25%</th>\n",
              "      <th>50%</th>\n",
              "      <th>75%</th>\n",
              "      <th>max</th>\n",
              "    </tr>\n",
              "  </thead>\n",
              "  <tbody>\n",
              "    <tr>\n",
              "      <th>Weekly Henry Hub Natural Gas Spot Price (Dollars per Million Btu)</th>\n",
              "      <td>1360.0</td>\n",
              "      <td>4.248574</td>\n",
              "      <td>2.194045</td>\n",
              "      <td>1.34</td>\n",
              "      <td>2.7</td>\n",
              "      <td>3.615</td>\n",
              "      <td>5.41</td>\n",
              "      <td>14.49</td>\n",
              "    </tr>\n",
              "  </tbody>\n",
              "</table>\n",
              "</div>\n",
              "      <button class=\"colab-df-convert\" onclick=\"convertToInteractive('df-09344704-5691-4d83-9179-c7140f58cbc3')\"\n",
              "              title=\"Convert this dataframe to an interactive table.\"\n",
              "              style=\"display:none;\">\n",
              "        \n",
              "  <svg xmlns=\"http://www.w3.org/2000/svg\" height=\"24px\"viewBox=\"0 0 24 24\"\n",
              "       width=\"24px\">\n",
              "    <path d=\"M0 0h24v24H0V0z\" fill=\"none\"/>\n",
              "    <path d=\"M18.56 5.44l.94 2.06.94-2.06 2.06-.94-2.06-.94-.94-2.06-.94 2.06-2.06.94zm-11 1L8.5 8.5l.94-2.06 2.06-.94-2.06-.94L8.5 2.5l-.94 2.06-2.06.94zm10 10l.94 2.06.94-2.06 2.06-.94-2.06-.94-.94-2.06-.94 2.06-2.06.94z\"/><path d=\"M17.41 7.96l-1.37-1.37c-.4-.4-.92-.59-1.43-.59-.52 0-1.04.2-1.43.59L10.3 9.45l-7.72 7.72c-.78.78-.78 2.05 0 2.83L4 21.41c.39.39.9.59 1.41.59.51 0 1.02-.2 1.41-.59l7.78-7.78 2.81-2.81c.8-.78.8-2.07 0-2.86zM5.41 20L4 18.59l7.72-7.72 1.47 1.35L5.41 20z\"/>\n",
              "  </svg>\n",
              "      </button>\n",
              "      \n",
              "  <style>\n",
              "    .colab-df-container {\n",
              "      display:flex;\n",
              "      flex-wrap:wrap;\n",
              "      gap: 12px;\n",
              "    }\n",
              "\n",
              "    .colab-df-convert {\n",
              "      background-color: #E8F0FE;\n",
              "      border: none;\n",
              "      border-radius: 50%;\n",
              "      cursor: pointer;\n",
              "      display: none;\n",
              "      fill: #1967D2;\n",
              "      height: 32px;\n",
              "      padding: 0 0 0 0;\n",
              "      width: 32px;\n",
              "    }\n",
              "\n",
              "    .colab-df-convert:hover {\n",
              "      background-color: #E2EBFA;\n",
              "      box-shadow: 0px 1px 2px rgba(60, 64, 67, 0.3), 0px 1px 3px 1px rgba(60, 64, 67, 0.15);\n",
              "      fill: #174EA6;\n",
              "    }\n",
              "\n",
              "    [theme=dark] .colab-df-convert {\n",
              "      background-color: #3B4455;\n",
              "      fill: #D2E3FC;\n",
              "    }\n",
              "\n",
              "    [theme=dark] .colab-df-convert:hover {\n",
              "      background-color: #434B5C;\n",
              "      box-shadow: 0px 1px 3px 1px rgba(0, 0, 0, 0.15);\n",
              "      filter: drop-shadow(0px 1px 2px rgba(0, 0, 0, 0.3));\n",
              "      fill: #FFFFFF;\n",
              "    }\n",
              "  </style>\n",
              "\n",
              "      <script>\n",
              "        const buttonEl =\n",
              "          document.querySelector('#df-09344704-5691-4d83-9179-c7140f58cbc3 button.colab-df-convert');\n",
              "        buttonEl.style.display =\n",
              "          google.colab.kernel.accessAllowed ? 'block' : 'none';\n",
              "\n",
              "        async function convertToInteractive(key) {\n",
              "          const element = document.querySelector('#df-09344704-5691-4d83-9179-c7140f58cbc3');\n",
              "          const dataTable =\n",
              "            await google.colab.kernel.invokeFunction('convertToInteractive',\n",
              "                                                     [key], {});\n",
              "          if (!dataTable) return;\n",
              "\n",
              "          const docLinkHtml = 'Like what you see? Visit the ' +\n",
              "            '<a target=\"_blank\" href=https://colab.research.google.com/notebooks/data_table.ipynb>data table notebook</a>'\n",
              "            + ' to learn more about interactive tables.';\n",
              "          element.innerHTML = '';\n",
              "          dataTable['output_type'] = 'display_data';\n",
              "          await google.colab.output.renderOutput(dataTable, element);\n",
              "          const docLink = document.createElement('div');\n",
              "          docLink.innerHTML = docLinkHtml;\n",
              "          element.appendChild(docLink);\n",
              "        }\n",
              "      </script>\n",
              "    </div>\n",
              "  </div>\n",
              "  "
            ],
            "text/plain": [
              "                                                     count      mean       std   min  25%    50%   75%    max\n",
              "Weekly Henry Hub Natural Gas Spot Price (Dollar...  1360.0  4.248574  2.194045  1.34  2.7  3.615  5.41  14.49"
            ]
          },
          "execution_count": 8,
          "metadata": {},
          "output_type": "execute_result"
        }
      ],
      "source": [
        "df.describe().T"
      ]
    },
    {
      "cell_type": "code",
      "execution_count": null,
      "metadata": {
        "colab": {
          "base_uri": "https://localhost:8080/"
        },
        "id": "ooyjTSSsKtKk",
        "outputId": "d2f33bb3-c988-4969-ed8d-5c97cdedb79d"
      },
      "outputs": [
        {
          "data": {
            "text/plain": [
              "<bound method DataFrame.info of             Weekly Henry Hub Natural Gas Spot Price (Dollars per Million Btu)\n",
              "Date                                                                         \n",
              "1997-01-10                                               3.79                \n",
              "1997-01-17                                               4.19                \n",
              "1997-01-24                                               2.98                \n",
              "1997-01-31                                               2.91                \n",
              "1997-02-07                                               2.53                \n",
              "...                                                       ...                \n",
              "2023-01-06                                               3.65                \n",
              "2023-01-13                                               3.46                \n",
              "2023-01-20                                               3.17                \n",
              "2023-01-27                                               3.08                \n",
              "2023-02-03                                               2.64                \n",
              "\n",
              "[1360 rows x 1 columns]>"
            ]
          },
          "execution_count": 9,
          "metadata": {},
          "output_type": "execute_result"
        }
      ],
      "source": [
        "df.info"
      ]
    },
    {
      "cell_type": "code",
      "execution_count": null,
      "metadata": {
        "colab": {
          "base_uri": "https://localhost:8080/",
          "height": 476
        },
        "id": "v92OapC2MYwl",
        "outputId": "f7348d89-fc0a-416e-f907-4016bd5335ef"
      },
      "outputs": [
        {
          "data": {
            "text/plain": [
              "<function matplotlib.pyplot.show(close=None, block=None)>"
            ]
          },
          "execution_count": 10,
          "metadata": {},
          "output_type": "execute_result"
        },
        {
          "data": {
            "image/png": "[encoded data removed]",
            "text/plain": [
              "<Figure size 1000x500 with 1 Axes>"
            ]
          },
          "metadata": {},
          "output_type": "display_data"
        }
      ],
      "source": [
        "df.plot(figsize=(10, 5))\n",
        "plt.title(\"Weekly Natural gGas Spot Prices\", fontsize=12)\n",
        "plt.ylabel(\"Dollars per Million Btu\", fontsize=12)\n",
        "plt.show"
      ]
    },
    {
      "cell_type": "code",
      "execution_count": null,
      "metadata": {
        "id": "4iAyGBGFNcEk"
      },
      "outputs": [],
      "source": [
        "num_cols = [col for col in df.columns if df[col].dtypes != \"O\"]"
      ]
    },
    {
      "cell_type": "code",
      "execution_count": null,
      "metadata": {
        "colab": {
          "base_uri": "https://localhost:8080/"
        },
        "id": "zBXHQLWVN1QB",
        "outputId": "e128b7b6-35b5-4ca3-826f-98ffcca630b3"
      },
      "outputs": [
        {
          "data": {
            "text/plain": [
              "['Weekly Henry Hub Natural Gas Spot Price (Dollars per Million Btu)']"
            ]
          },
          "execution_count": 12,
          "metadata": {},
          "output_type": "execute_result"
        }
      ],
      "source": [
        "num_cols"
      ]
    },
    {
      "cell_type": "code",
      "execution_count": null,
      "metadata": {
        "id": "zrwMqWdPOIjw"
      },
      "outputs": [],
      "source": [
        "def outlier_thresholds(dataframe, col_name, q1=0.25, q3=0.75):\n",
        "    quartile1 = dataframe[col_name].quantile(q1)\n",
        "    quartile3 = dataframe[col_name].quantile(q3)\n",
        "    interquantile_range = quartile3 - quartile1\n",
        "    up_limit = quartile3 + 1.5 * interquantile_range\n",
        "    low_limit = quartile1 - 1.5 * interquantile_range\n",
        "    return low_limit, up_limit\n",
        "\n",
        "def replace_with_thresholds(dataframe, variable):\n",
        "    low_limit, up_limit = outlier_thresholds(dataframe, variable)\n",
        "    dataframe.loc[(dataframe[variable] < low_limit), variable] = low_limit\n",
        "    dataframe.loc[(dataframe[variable] > up_limit), variable] = up_limit\n",
        "\n",
        "def check_outlier(dataframe, col_name, q1=0.25, q3=0.75):\n",
        "    low_limit, up_limit = outlier_thresholds(dataframe, col_name, q1, q3)\n",
        "    if dataframe[(dataframe[col_name] > up_limit) | (dataframe[col_name] < low_limit)].any(axis=None):\n",
        "        return True\n",
        "    else:\n",
        "        return False"
      ]
    },
    {
      "cell_type": "code",
      "execution_count": null,
      "metadata": {
        "colab": {
          "base_uri": "https://localhost:8080/"
        },
        "id": "oBFNI9VTON0-",
        "outputId": "a2b04cb0-12be-47b2-db78-9e67a76faa62"
      },
      "outputs": [
        {
          "data": {
            "text/plain": [
              "(Weekly Henry Hub Natural Gas Spot Price (Dollars per Million Btu)   -1.365\n",
              " dtype: float64,\n",
              " Weekly Henry Hub Natural Gas Spot Price (Dollars per Million Btu)    9.475\n",
              " dtype: float64)"
            ]
          },
          "execution_count": 14,
          "metadata": {},
          "output_type": "execute_result"
        }
      ],
      "source": [
        "outlier_thresholds(df, num_cols, q1=0.25, q3=0.75)"
      ]
    },
    {
      "cell_type": "code",
      "execution_count": null,
      "metadata": {
        "id": "wRXmHxDGOV9S"
      },
      "outputs": [],
      "source": [
        "replace_with_thresholds(df, \"Weekly Henry Hub Natural Gas Spot Price (Dollars per Million Btu)\")"
      ]
    },
    {
      "cell_type": "code",
      "execution_count": null,
      "metadata": {
        "colab": {
          "base_uri": "https://localhost:8080/"
        },
        "id": "xKUtZFJwOZj1",
        "outputId": "5377cc42-ddc7-4ba6-deef-0914339ace3b"
      },
      "outputs": [
        {
          "data": {
            "text/plain": [
              "False"
            ]
          },
          "execution_count": 16,
          "metadata": {},
          "output_type": "execute_result"
        }
      ],
      "source": [
        "check_outlier(df, num_cols, q1=0.25, q3=0.75)"
      ]
    },
    {
      "cell_type": "code",
      "execution_count": null,
      "metadata": {
        "id": "lCRamdIiOz0U"
      },
      "outputs": [],
      "source": [
        "# Data Normalization\n",
        "df = df - df.min()\n",
        "df = df / df.max()"
      ]
    },
    {
      "cell_type": "code",
      "execution_count": null,
      "metadata": {
        "colab": {
          "base_uri": "https://localhost:8080/",
          "height": 455
        },
        "id": "iCv02U0nRgCo",
        "outputId": "77270925-28d6-4d8b-b849-a220dd3bfc05"
      },
      "outputs": [
        {
          "data": {
            "text/html": [
              "\n",
              "  <div id=\"df-323a077a-c6e0-4ccd-904a-ef85a9ccb76d\">\n",
              "    <div class=\"colab-df-container\">\n",
              "      <div>\n",
              "<style scoped>\n",
              "    .dataframe tbody tr th:only-of-type {\n",
              "        vertical-align: middle;\n",
              "    }\n",
              "\n",
              "    .dataframe tbody tr th {\n",
              "        vertical-align: top;\n",
              "    }\n",
              "\n",
              "    .dataframe thead th {\n",
              "        text-align: right;\n",
              "    }\n",
              "</style>\n",
              "<table border=\"1\" class=\"dataframe\">\n",
              "  <thead>\n",
              "    <tr style=\"text-align: right;\">\n",
              "      <th></th>\n",
              "      <th>Weekly Henry Hub Natural Gas Spot Price (Dollars per Million Btu)</th>\n",
              "    </tr>\n",
              "    <tr>\n",
              "      <th>Date</th>\n",
              "      <th></th>\n",
              "    </tr>\n",
              "  </thead>\n",
              "  <tbody>\n",
              "    <tr>\n",
              "      <th>1997-01-10</th>\n",
              "      <td>0.301168</td>\n",
              "    </tr>\n",
              "    <tr>\n",
              "      <th>1997-01-17</th>\n",
              "      <td>0.350338</td>\n",
              "    </tr>\n",
              "    <tr>\n",
              "      <th>1997-01-24</th>\n",
              "      <td>0.201598</td>\n",
              "    </tr>\n",
              "    <tr>\n",
              "      <th>1997-01-31</th>\n",
              "      <td>0.192993</td>\n",
              "    </tr>\n",
              "    <tr>\n",
              "      <th>1997-02-07</th>\n",
              "      <td>0.146281</td>\n",
              "    </tr>\n",
              "    <tr>\n",
              "      <th>...</th>\n",
              "      <td>...</td>\n",
              "    </tr>\n",
              "    <tr>\n",
              "      <th>2023-01-06</th>\n",
              "      <td>0.283958</td>\n",
              "    </tr>\n",
              "    <tr>\n",
              "      <th>2023-01-13</th>\n",
              "      <td>0.260602</td>\n",
              "    </tr>\n",
              "    <tr>\n",
              "      <th>2023-01-20</th>\n",
              "      <td>0.224954</td>\n",
              "    </tr>\n",
              "    <tr>\n",
              "      <th>2023-01-27</th>\n",
              "      <td>0.213891</td>\n",
              "    </tr>\n",
              "    <tr>\n",
              "      <th>2023-02-03</th>\n",
              "      <td>0.159803</td>\n",
              "    </tr>\n",
              "  </tbody>\n",
              "</table>\n",
              "<p>1360 rows × 1 columns</p>\n",
              "</div>\n",
              "      <button class=\"colab-df-convert\" onclick=\"convertToInteractive('df-323a077a-c6e0-4ccd-904a-ef85a9ccb76d')\"\n",
              "              title=\"Convert this dataframe to an interactive table.\"\n",
              "              style=\"display:none;\">\n",
              "        \n",
              "  <svg xmlns=\"http://www.w3.org/2000/svg\" height=\"24px\"viewBox=\"0 0 24 24\"\n",
              "       width=\"24px\">\n",
              "    <path d=\"M0 0h24v24H0V0z\" fill=\"none\"/>\n",
              "    <path d=\"M18.56 5.44l.94 2.06.94-2.06 2.06-.94-2.06-.94-.94-2.06-.94 2.06-2.06.94zm-11 1L8.5 8.5l.94-2.06 2.06-.94-2.06-.94L8.5 2.5l-.94 2.06-2.06.94zm10 10l.94 2.06.94-2.06 2.06-.94-2.06-.94-.94-2.06-.94 2.06-2.06.94z\"/><path d=\"M17.41 7.96l-1.37-1.37c-.4-.4-.92-.59-1.43-.59-.52 0-1.04.2-1.43.59L10.3 9.45l-7.72 7.72c-.78.78-.78 2.05 0 2.83L4 21.41c.39.39.9.59 1.41.59.51 0 1.02-.2 1.41-.59l7.78-7.78 2.81-2.81c.8-.78.8-2.07 0-2.86zM5.41 20L4 18.59l7.72-7.72 1.47 1.35L5.41 20z\"/>\n",
              "  </svg>\n",
              "      </button>\n",
              "      \n",
              "  <style>\n",
              "    .colab-df-container {\n",
              "      display:flex;\n",
              "      flex-wrap:wrap;\n",
              "      gap: 12px;\n",
              "    }\n",
              "\n",
              "    .colab-df-convert {\n",
              "      background-color: #E8F0FE;\n",
              "      border: none;\n",
              "      border-radius: 50%;\n",
              "      cursor: pointer;\n",
              "      display: none;\n",
              "      fill: #1967D2;\n",
              "      height: 32px;\n",
              "      padding: 0 0 0 0;\n",
              "      width: 32px;\n",
              "    }\n",
              "\n",
              "    .colab-df-convert:hover {\n",
              "      background-color: #E2EBFA;\n",
              "      box-shadow: 0px 1px 2px rgba(60, 64, 67, 0.3), 0px 1px 3px 1px rgba(60, 64, 67, 0.15);\n",
              "      fill: #174EA6;\n",
              "    }\n",
              "\n",
              "    [theme=dark] .colab-df-convert {\n",
              "      background-color: #3B4455;\n",
              "      fill: #D2E3FC;\n",
              "    }\n",
              "\n",
              "    [theme=dark] .colab-df-convert:hover {\n",
              "      background-color: #434B5C;\n",
              "      box-shadow: 0px 1px 3px 1px rgba(0, 0, 0, 0.15);\n",
              "      filter: drop-shadow(0px 1px 2px rgba(0, 0, 0, 0.3));\n",
              "      fill: #FFFFFF;\n",
              "    }\n",
              "  </style>\n",
              "\n",
              "      <script>\n",
              "        const buttonEl =\n",
              "          document.querySelector('#df-323a077a-c6e0-4ccd-904a-ef85a9ccb76d button.colab-df-convert');\n",
              "        buttonEl.style.display =\n",
              "          google.colab.kernel.accessAllowed ? 'block' : 'none';\n",
              "\n",
              "        async function convertToInteractive(key) {\n",
              "          const element = document.querySelector('#df-323a077a-c6e0-4ccd-904a-ef85a9ccb76d');\n",
              "          const dataTable =\n",
              "            await google.colab.kernel.invokeFunction('convertToInteractive',\n",
              "                                                     [key], {});\n",
              "          if (!dataTable) return;\n",
              "\n",
              "          const docLinkHtml = 'Like what you see? Visit the ' +\n",
              "            '<a target=\"_blank\" href=https://colab.research.google.com/notebooks/data_table.ipynb>data table notebook</a>'\n",
              "            + ' to learn more about interactive tables.';\n",
              "          element.innerHTML = '';\n",
              "          dataTable['output_type'] = 'display_data';\n",
              "          await google.colab.output.renderOutput(dataTable, element);\n",
              "          const docLink = document.createElement('div');\n",
              "          docLink.innerHTML = docLinkHtml;\n",
              "          element.appendChild(docLink);\n",
              "        }\n",
              "      </script>\n",
              "    </div>\n",
              "  </div>\n",
              "  "
            ],
            "text/plain": [
              "            Weekly Henry Hub Natural Gas Spot Price (Dollars per Million Btu)\n",
              "Date                                                                         \n",
              "1997-01-10                                           0.301168                \n",
              "1997-01-17                                           0.350338                \n",
              "1997-01-24                                           0.201598                \n",
              "1997-01-31                                           0.192993                \n",
              "1997-02-07                                           0.146281                \n",
              "...                                                       ...                \n",
              "2023-01-06                                           0.283958                \n",
              "2023-01-13                                           0.260602                \n",
              "2023-01-20                                           0.224954                \n",
              "2023-01-27                                           0.213891                \n",
              "2023-02-03                                           0.159803                \n",
              "\n",
              "[1360 rows x 1 columns]"
            ]
          },
          "execution_count": 18,
          "metadata": {},
          "output_type": "execute_result"
        }
      ],
      "source": [
        "df"
      ]
    },
    {
      "cell_type": "code",
      "execution_count": null,
      "metadata": {
        "colab": {
          "base_uri": "https://localhost:8080/"
        },
        "id": "8iRNaWYPQw4g",
        "outputId": "b6cd71ec-4b07-42c5-85d5-55984ab980aa"
      },
      "outputs": [
        {
          "name": "stdout",
          "output_type": "stream",
          "text": [
            "Train Dataset:  (1146, 1)\n",
            "Test Dataset:  (214, 1)\n"
          ]
        }
      ],
      "source": [
        "train_data = df[\"1997-01-07\" : \"2018-12-31\"]\n",
        "test_data = df[\"2019-01-01\" : ]\n",
        "print(\"Train Dataset: \", train_data.shape)\n",
        "print(\"Test Dataset: \", test_data.shape)"
      ]
    },
    {
      "cell_type": "code",
      "execution_count": null,
      "metadata": {
        "colab": {
          "base_uri": "https://localhost:8080/",
          "height": 454
        },
        "id": "ZU2wOcgkRz0T",
        "outputId": "222ea6e5-6502-4d2d-f4be-dce0607a74ef"
      },
      "outputs": [
        {
          "data": {
            "text/plain": [
              "<matplotlib.legend.Legend at 0x7f08752c7610>"
            ]
          },
          "execution_count": 20,
          "metadata": {},
          "output_type": "execute_result"
        },
        {
          "data": {
            "image/png": "[encoded data removed]",
            "text/plain": [
              "<Figure size 1000x500 with 1 Axes>"
            ]
          },
          "metadata": {},
          "output_type": "display_data"
        }
      ],
      "source": [
        "ax = train_data.plot(figsize=(10, 5))\n",
        "test_data.plot(ax=ax, color=\"r\")\n",
        "plt.legend([\"train\", \"test\"])"
      ]
    },
    {
      "cell_type": "code",
      "execution_count": null,
      "metadata": {
        "id": "4x_PDTT1cSVf"
      },
      "outputs": [],
      "source": [
        "tf.keras.backend.clear_session()\n",
        "tf.random.set_seed(42)"
      ]
    },
    {
      "cell_type": "code",
      "execution_count": null,
      "metadata": {
        "id": "olOK-a1zcezS"
      },
      "outputs": [],
      "source": [
        "def windowed_dataset(series, batch_size, n_past=10, n_future=10, shift=1):\n",
        "    ds = tf.data.Dataset.from_tensor_slices(series)\n",
        "    ds = ds.window(size=n_past + n_future, shift=shift, drop_remainder=True)\n",
        "    ds = ds.flat_map(lambda w: w.batch(n_past + n_future))\n",
        "    ds = ds.map(lambda w: (w[:n_past], w[n_past:]))\n",
        "    return ds.batch(batch_size).prefetch(1)\n",
        "\n",
        "train_set = windowed_dataset(series=train_data, batch_size=32,\n",
        "                                 n_past=60, n_future=60,\n",
        "                                 shift=1)\n",
        "valid_set = windowed_dataset(series=test_data, batch_size=32,\n",
        "                                 n_past=1)"
      ]
    },
    {
      "cell_type": "code",
      "execution_count": null,
      "metadata": {
        "colab": {
          "base_uri": "https://localhost:8080/"
        },
        "id": "VLUC-PThWBPz",
        "outputId": "55ce4f30-301d-432f-a1cb-04241ed5b025"
      },
      "outputs": [
        {
          "name": "stdout",
          "output_type": "stream",
          "text": [
            "Model: \"sequential\"\n",
            "_________________________________________________________________\n",
            " Layer (type)                Output Shape              Param #   \n",
            "=================================================================\n",
            " conv1d (Conv1D)             (None, None, 64)          384       \n",
            "                                                                 \n",
            " bidirectional (Bidirectiona  (None, None, 100)        46000     \n",
            " l)                                                              \n",
            "                                                                 \n",
            " dropout (Dropout)           (None, None, 100)         0         \n",
            "                                                                 \n",
            " bidirectional_1 (Bidirectio  (None, None, 100)        60400     \n",
            " nal)                                                            \n",
            "                                                                 \n",
            " dropout_1 (Dropout)         (None, None, 100)         0         \n",
            "                                                                 \n",
            " bidirectional_2 (Bidirectio  (None, None, 100)        60400     \n",
            " nal)                                                            \n",
            "                                                                 \n",
            " dropout_2 (Dropout)         (None, None, 100)         0         \n",
            "                                                                 \n",
            " bidirectional_3 (Bidirectio  (None, 100)              60400     \n",
            " nal)                                                            \n",
            "                                                                 \n",
            " dropout_3 (Dropout)         (None, 100)               0         \n",
            "                                                                 \n",
            " dense (Dense)               (None, 1)                 101       \n",
            "                                                                 \n",
            "=================================================================\n",
            "Total params: 227,685\n",
            "Trainable params: 227,685\n",
            "Non-trainable params: 0\n",
            "_________________________________________________________________\n"
          ]
        }
      ],
      "source": [
        "model = tf.keras.models.Sequential([\n",
        "    tf.keras.layers.Conv1D(filters=64, kernel_size=5,\n",
        "                               strides=1, padding=\"causal\",\n",
        "                               activation=\"relu\",\n",
        "                               input_shape=[None, len(df.columns)]),\n",
        "    tf.keras.layers.Bidirectional(tf.keras.layers.LSTM(50, return_sequences=True)),\n",
        "    tf.keras.layers.Dropout(0.25),\n",
        "    tf.keras.layers.Bidirectional(tf.keras.layers.LSTM(50, return_sequences=True)),\n",
        "    tf.keras.layers.Dropout(0.25),\n",
        "    tf.keras.layers.Bidirectional(tf.keras.layers.LSTM(50, return_sequences=True)),\n",
        "    tf.keras.layers.Dropout(0.25),\n",
        "    tf.keras.layers.Bidirectional(tf.keras.layers.LSTM(50)),\n",
        "    tf.keras.layers.Dropout(0.25),\n",
        "    tf.keras.layers.Dense(1)\n",
        "    ])\n",
        "\n",
        "model.summary()"
      ]
    },
    {
      "cell_type": "code",
      "execution_count": null,
      "metadata": {
        "colab": {
          "background_save": true,
          "base_uri": "https://localhost:8080/"
        },
        "id": "Ge2eRWWNYIut",
        "outputId": "5e2667ed-d13e-4279-cb69-f07eae5d7fd6"
      },
      "outputs": [
        {
          "name": "stdout",
          "output_type": "stream",
          "text": [
            "Epoch 1/100\n",
            "33/33 [==============================] - 32s 444ms/step - loss: 0.0334 - mae: 0.1899 - val_loss: 0.0659 - val_mae: 0.2653\n",
            "Epoch 2/100\n",
            "33/33 [==============================] - 9s 287ms/step - loss: 0.0278 - mae: 0.1686 - val_loss: 0.0604 - val_mae: 0.2450\n",
            "Epoch 3/100\n",
            "33/33 [==============================] - 8s 243ms/step - loss: 0.0407 - mae: 0.2263 - val_loss: 0.0535 - val_mae: 0.2217\n",
            "Epoch 4/100\n",
            "33/33 [==============================] - 9s 266ms/step - loss: 0.0399 - mae: 0.2291 - val_loss: 0.0487 - val_mae: 0.2062\n",
            "Epoch 5/100\n",
            "33/33 [==============================] - 9s 278ms/step - loss: 0.0356 - mae: 0.2126 - val_loss: 0.0460 - val_mae: 0.1980\n",
            "Epoch 6/100\n",
            "33/33 [==============================] - 9s 278ms/step - loss: 0.0374 - mae: 0.2287 - val_loss: 0.0431 - val_mae: 0.1905\n",
            "Epoch 7/100\n",
            "33/33 [==============================] - 8s 244ms/step - loss: 0.0362 - mae: 0.2232 - val_loss: 0.0417 - val_mae: 0.1874\n",
            "Epoch 8/100\n",
            "33/33 [==============================] - 8s 245ms/step - loss: 0.0364 - mae: 0.2263 - val_loss: 0.0403 - val_mae: 0.1849\n",
            "Epoch 9/100\n",
            "33/33 [==============================] - 9s 258ms/step - loss: 0.0331 - mae: 0.2129 - val_loss: 0.0400 - val_mae: 0.1844\n",
            "Epoch 10/100\n",
            "33/33 [==============================] - 9s 277ms/step - loss: 0.0281 - mae: 0.1939 - val_loss: 0.0399 - val_mae: 0.1842\n",
            "Epoch 11/100\n",
            "33/33 [==============================] - 9s 279ms/step - loss: 0.0240 - mae: 0.1713 - val_loss: 0.0399 - val_mae: 0.1843\n",
            "Epoch 12/100\n",
            "33/33 [==============================] - 8s 242ms/step - loss: 0.0240 - mae: 0.1733 - val_loss: 0.0394 - val_mae: 0.1836\n",
            "Epoch 13/100\n",
            "33/33 [==============================] - 8s 241ms/step - loss: 0.0232 - mae: 0.1678 - val_loss: 0.0394 - val_mae: 0.1836\n",
            "Epoch 14/100\n",
            "33/33 [==============================] - 9s 281ms/step - loss: 0.0228 - mae: 0.1662 - val_loss: 0.0390 - val_mae: 0.1832\n",
            "Epoch 15/100\n",
            "33/33 [==============================] - 9s 285ms/step - loss: 0.0225 - mae: 0.1648 - val_loss: 0.0388 - val_mae: 0.1830\n",
            "Epoch 16/100\n",
            "33/33 [==============================] - 9s 282ms/step - loss: 0.0222 - mae: 0.1631 - val_loss: 0.0386 - val_mae: 0.1828\n",
            "Epoch 17/100\n",
            "33/33 [==============================] - 8s 258ms/step - loss: 0.0219 - mae: 0.1611 - val_loss: 0.0384 - val_mae: 0.1827\n",
            "Epoch 18/100\n",
            "33/33 [==============================] - 8s 244ms/step - loss: 0.0216 - mae: 0.1592 - val_loss: 0.0381 - val_mae: 0.1826\n",
            "Epoch 19/100\n",
            "33/33 [==============================] - 8s 246ms/step - loss: 0.0212 - mae: 0.1579 - val_loss: 0.0379 - val_mae: 0.1826\n",
            "Epoch 20/100\n",
            "33/33 [==============================] - 9s 280ms/step - loss: 0.0205 - mae: 0.1543 - val_loss: 0.0377 - val_mae: 0.1826\n",
            "Epoch 21/100\n",
            "33/33 [==============================] - 9s 279ms/step - loss: 0.0205 - mae: 0.1545 - val_loss: 0.0376 - val_mae: 0.1826\n",
            "Epoch 22/100\n",
            "33/33 [==============================] - 9s 279ms/step - loss: 0.0207 - mae: 0.1552 - val_loss: 0.0374 - val_mae: 0.1826\n",
            "Epoch 23/100\n",
            "33/33 [==============================] - 8s 246ms/step - loss: 0.0199 - mae: 0.1521 - val_loss: 0.0373 - val_mae: 0.1826\n",
            "Epoch 24/100\n",
            "33/33 [==============================] - 9s 280ms/step - loss: 0.0199 - mae: 0.1520 - val_loss: 0.0371 - val_mae: 0.1826\n",
            "Epoch 25/100\n",
            "33/33 [==============================] - 9s 277ms/step - loss: 0.0195 - mae: 0.1502 - val_loss: 0.0370 - val_mae: 0.1827\n",
            "Epoch 26/100\n",
            "33/33 [==============================] - 9s 282ms/step - loss: 0.0193 - mae: 0.1491 - val_loss: 0.0369 - val_mae: 0.1827\n",
            "Epoch 27/100\n",
            "33/33 [==============================] - 10s 289ms/step - loss: 0.0194 - mae: 0.1498 - val_loss: 0.0367 - val_mae: 0.1827\n",
            "Epoch 28/100\n",
            "33/33 [==============================] - 8s 245ms/step - loss: 0.0193 - mae: 0.1481 - val_loss: 0.0362 - val_mae: 0.1830\n",
            "Epoch 29/100\n",
            "33/33 [==============================] - 9s 284ms/step - loss: 0.0191 - mae: 0.1477 - val_loss: 0.0367 - val_mae: 0.1827\n",
            "Epoch 30/100\n",
            "33/33 [==============================] - 9s 284ms/step - loss: 0.0192 - mae: 0.1483 - val_loss: 0.0356 - val_mae: 0.1836\n",
            "Epoch 31/100\n",
            "33/33 [==============================] - 9s 279ms/step - loss: 0.0202 - mae: 0.1521 - val_loss: 0.0364 - val_mae: 0.1828\n",
            "Epoch 32/100\n",
            "33/33 [==============================] - 8s 236ms/step - loss: 0.0208 - mae: 0.1561 - val_loss: 0.0356 - val_mae: 0.1833\n",
            "Epoch 33/100\n",
            "33/33 [==============================] - 8s 241ms/step - loss: 0.0188 - mae: 0.1461 - val_loss: 0.0356 - val_mae: 0.1835\n",
            "Epoch 34/100\n",
            "33/33 [==============================] - 8s 243ms/step - loss: 0.0184 - mae: 0.1453 - val_loss: 0.0353 - val_mae: 0.1837\n",
            "Epoch 35/100\n",
            "33/33 [==============================] - 9s 281ms/step - loss: 0.0177 - mae: 0.1421 - val_loss: 0.0353 - val_mae: 0.1836\n",
            "Epoch 36/100\n",
            "33/33 [==============================] - 9s 276ms/step - loss: 0.0177 - mae: 0.1408 - val_loss: 0.0351 - val_mae: 0.1839\n",
            "Epoch 37/100\n",
            "33/33 [==============================] - 9s 276ms/step - loss: 0.0174 - mae: 0.1407 - val_loss: 0.0352 - val_mae: 0.1837\n",
            "Epoch 38/100\n",
            "33/33 [==============================] - 8s 242ms/step - loss: 0.0177 - mae: 0.1411 - val_loss: 0.0344 - val_mae: 0.1847\n",
            "Epoch 39/100\n",
            "33/33 [==============================] - 9s 266ms/step - loss: 0.0197 - mae: 0.1506 - val_loss: 0.0352 - val_mae: 0.1836\n",
            "Epoch 40/100\n",
            "33/33 [==============================] - 9s 272ms/step - loss: 0.0189 - mae: 0.1484 - val_loss: 0.0344 - val_mae: 0.1846\n",
            "Epoch 41/100\n",
            "33/33 [==============================] - 9s 273ms/step - loss: 0.0172 - mae: 0.1386 - val_loss: 0.0351 - val_mae: 0.1836\n",
            "Epoch 42/100\n",
            "33/33 [==============================] - 9s 271ms/step - loss: 0.0181 - mae: 0.1439 - val_loss: 0.0341 - val_mae: 0.1850\n",
            "Epoch 43/100\n",
            "33/33 [==============================] - 9s 278ms/step - loss: 0.0172 - mae: 0.1395 - val_loss: 0.0345 - val_mae: 0.1845\n",
            "Epoch 44/100\n",
            "33/33 [==============================] - 8s 248ms/step - loss: 0.0174 - mae: 0.1421 - val_loss: 0.0335 - val_mae: 0.1859\n",
            "Epoch 45/100\n",
            "33/33 [==============================] - 9s 271ms/step - loss: 0.0183 - mae: 0.1446 - val_loss: 0.0343 - val_mae: 0.1846\n",
            "Epoch 46/100\n",
            "33/33 [==============================] - 9s 269ms/step - loss: 0.0160 - mae: 0.1357 - val_loss: 0.0336 - val_mae: 0.1857\n",
            "Epoch 47/100\n",
            "33/33 [==============================] - 9s 269ms/step - loss: 0.0179 - mae: 0.1415 - val_loss: 0.0344 - val_mae: 0.1843\n",
            "Epoch 48/100\n",
            "33/33 [==============================] - 9s 268ms/step - loss: 0.0164 - mae: 0.1371 - val_loss: 0.0335 - val_mae: 0.1857\n",
            "Epoch 49/100\n",
            "33/33 [==============================] - 8s 243ms/step - loss: 0.0152 - mae: 0.1311 - val_loss: 0.0333 - val_mae: 0.1862\n",
            "Epoch 50/100\n",
            "33/33 [==============================] - 8s 243ms/step - loss: 0.0143 - mae: 0.1271 - val_loss: 0.0334 - val_mae: 0.1861\n",
            "Epoch 51/100\n",
            "33/33 [==============================] - 10s 298ms/step - loss: 0.0148 - mae: 0.1295 - val_loss: 0.0349 - val_mae: 0.1835\n",
            "Epoch 52/100\n",
            "33/33 [==============================] - 9s 270ms/step - loss: 0.0201 - mae: 0.1530 - val_loss: 0.0334 - val_mae: 0.1857\n",
            "Epoch 53/100\n",
            "33/33 [==============================] - 9s 265ms/step - loss: 0.0163 - mae: 0.1357 - val_loss: 0.0331 - val_mae: 0.1864\n",
            "Epoch 54/100\n",
            "33/33 [==============================] - 9s 265ms/step - loss: 0.0148 - mae: 0.1303 - val_loss: 0.0331 - val_mae: 0.1864\n",
            "Epoch 55/100\n",
            "33/33 [==============================] - 8s 243ms/step - loss: 0.0140 - mae: 0.1249 - val_loss: 0.0326 - val_mae: 0.1875\n",
            "Epoch 56/100\n",
            "33/33 [==============================] - 8s 244ms/step - loss: 0.0124 - mae: 0.1200 - val_loss: 0.0330 - val_mae: 0.1864\n",
            "Epoch 57/100\n",
            "33/33 [==============================] - 8s 248ms/step - loss: 0.0133 - mae: 0.1233 - val_loss: 0.0323 - val_mae: 0.1885\n",
            "Epoch 58/100\n",
            "33/33 [==============================] - 8s 248ms/step - loss: 0.0217 - mae: 0.1581 - val_loss: 0.0338 - val_mae: 0.1846\n",
            "Epoch 59/100\n",
            "33/33 [==============================] - 9s 267ms/step - loss: 0.0228 - mae: 0.1612 - val_loss: 0.0319 - val_mae: 0.1897\n",
            "Epoch 60/100\n",
            "33/33 [==============================] - 9s 272ms/step - loss: 0.0165 - mae: 0.1399 - val_loss: 0.0321 - val_mae: 0.1893\n",
            "Epoch 61/100\n",
            "33/33 [==============================] - 9s 266ms/step - loss: 0.0155 - mae: 0.1329 - val_loss: 0.0328 - val_mae: 0.1873\n",
            "Epoch 62/100\n",
            "33/33 [==============================] - 8s 242ms/step - loss: 0.0229 - mae: 0.1614 - val_loss: 0.0334 - val_mae: 0.1859\n",
            "Epoch 63/100\n",
            "33/33 [==============================] - 8s 245ms/step - loss: 0.0226 - mae: 0.1635 - val_loss: 0.0322 - val_mae: 0.1888\n",
            "Epoch 64/100\n",
            "33/33 [==============================] - 8s 240ms/step - loss: 0.0167 - mae: 0.1355 - val_loss: 0.0324 - val_mae: 0.1883\n",
            "Epoch 65/100\n",
            "33/33 [==============================] - 9s 259ms/step - loss: 0.0168 - mae: 0.1384 - val_loss: 0.0322 - val_mae: 0.1889\n",
            "Epoch 66/100\n",
            "33/33 [==============================] - 9s 264ms/step - loss: 0.0158 - mae: 0.1332 - val_loss: 0.0323 - val_mae: 0.1885\n",
            "Epoch 67/100\n",
            "33/33 [==============================] - 9s 267ms/step - loss: 0.0159 - mae: 0.1348 - val_loss: 0.0321 - val_mae: 0.1892\n",
            "Epoch 68/100\n",
            "33/33 [==============================] - 9s 267ms/step - loss: 0.0152 - mae: 0.1307 - val_loss: 0.0322 - val_mae: 0.1889\n",
            "Epoch 69/100\n",
            "33/33 [==============================] - 9s 262ms/step - loss: 0.0154 - mae: 0.1320 - val_loss: 0.0319 - val_mae: 0.1898\n",
            "Epoch 70/100\n",
            "33/33 [==============================] - 8s 253ms/step - loss: 0.0140 - mae: 0.1255 - val_loss: 0.0322 - val_mae: 0.1887\n",
            "Epoch 71/100\n",
            "33/33 [==============================] - 8s 241ms/step - loss: 0.0149 - mae: 0.1294 - val_loss: 0.0320 - val_mae: 0.1893\n",
            "Epoch 72/100\n",
            "33/33 [==============================] - 8s 241ms/step - loss: 0.0140 - mae: 0.1250 - val_loss: 0.0318 - val_mae: 0.1901\n",
            "Epoch 73/100\n",
            "33/33 [==============================] - 8s 233ms/step - loss: 0.0144 - mae: 0.1287 - val_loss: 0.0319 - val_mae: 0.1897\n",
            "Epoch 74/100\n",
            "33/33 [==============================] - 10s 289ms/step - loss: 0.0131 - mae: 0.1225 - val_loss: 0.0322 - val_mae: 0.1888\n",
            "Epoch 75/100\n",
            "33/33 [==============================] - 9s 263ms/step - loss: 0.0142 - mae: 0.1259 - val_loss: 0.0320 - val_mae: 0.1893\n",
            "Epoch 76/100\n",
            "33/33 [==============================] - 9s 259ms/step - loss: 0.0143 - mae: 0.1280 - val_loss: 0.0318 - val_mae: 0.1897\n",
            "Epoch 77/100\n",
            "33/33 [==============================] - 9s 268ms/step - loss: 0.0122 - mae: 0.1189 - val_loss: 0.0322 - val_mae: 0.1885\n",
            "Epoch 78/100\n",
            "33/33 [==============================] - 8s 235ms/step - loss: 0.0140 - mae: 0.1285 - val_loss: 0.0314 - val_mae: 0.1918\n",
            "Epoch 79/100\n",
            "33/33 [==============================] - 8s 241ms/step - loss: 0.0138 - mae: 0.1269 - val_loss: 0.0324 - val_mae: 0.1872\n",
            "Epoch 80/100\n",
            "33/33 [==============================] - 8s 244ms/step - loss: 0.0199 - mae: 0.1497 - val_loss: 0.0311 - val_mae: 0.1938\n",
            "Epoch 81/100\n",
            "33/33 [==============================] - 8s 238ms/step - loss: 0.0171 - mae: 0.1365 - val_loss: 0.0313 - val_mae: 0.1914\n",
            "Epoch 82/100\n",
            "33/33 [==============================] - 9s 264ms/step - loss: 0.0178 - mae: 0.1435 - val_loss: 0.0311 - val_mae: 0.1922\n",
            "Epoch 83/100\n",
            "33/33 [==============================] - 9s 266ms/step - loss: 0.0149 - mae: 0.1295 - val_loss: 0.0316 - val_mae: 0.1897\n",
            "Epoch 84/100\n",
            "33/33 [==============================] - 9s 272ms/step - loss: 0.0139 - mae: 0.1246 - val_loss: 0.0313 - val_mae: 0.1910\n",
            "Epoch 85/100\n",
            "33/33 [==============================] - 9s 266ms/step - loss: 0.0138 - mae: 0.1278 - val_loss: 0.0319 - val_mae: 0.1884\n",
            "Epoch 86/100\n",
            "33/33 [==============================] - 9s 265ms/step - loss: 0.0177 - mae: 0.1416 - val_loss: 0.0307 - val_mae: 0.1929\n",
            "Epoch 87/100\n",
            "33/33 [==============================] - 8s 237ms/step - loss: 0.0136 - mae: 0.1226 - val_loss: 0.0313 - val_mae: 0.1902\n",
            "Epoch 88/100\n",
            "33/33 [==============================] - 8s 246ms/step - loss: 0.0140 - mae: 0.1263 - val_loss: 0.0307 - val_mae: 0.1933\n",
            "Epoch 89/100\n",
            "33/33 [==============================] - 9s 262ms/step - loss: 0.0137 - mae: 0.1257 - val_loss: 0.0316 - val_mae: 0.1888\n",
            "Epoch 90/100\n",
            "33/33 [==============================] - 9s 264ms/step - loss: 0.0149 - mae: 0.1297 - val_loss: 0.0307 - val_mae: 0.1933\n",
            "Epoch 91/100\n",
            "33/33 [==============================] - 9s 264ms/step - loss: 0.0126 - mae: 0.1201 - val_loss: 0.0314 - val_mae: 0.1900\n",
            "Epoch 92/100\n",
            "33/33 [==============================] - 9s 260ms/step - loss: 0.0146 - mae: 0.1297 - val_loss: 0.0307 - val_mae: 0.1934\n",
            "Epoch 93/100\n",
            "33/33 [==============================] - 8s 239ms/step - loss: 0.0126 - mae: 0.1202 - val_loss: 0.0314 - val_mae: 0.1894\n",
            "Epoch 94/100\n",
            "33/33 [==============================] - 8s 238ms/step - loss: 0.0141 - mae: 0.1257 - val_loss: 0.0305 - val_mae: 0.1944\n",
            "Epoch 95/100\n",
            "33/33 [==============================] - 8s 240ms/step - loss: 0.0143 - mae: 0.1294 - val_loss: 0.0316 - val_mae: 0.1884\n",
            "Epoch 96/100\n",
            "33/33 [==============================] - 8s 244ms/step - loss: 0.0166 - mae: 0.1365 - val_loss: 0.0305 - val_mae: 0.1936\n",
            "Epoch 97/100\n",
            "33/33 [==============================] - 9s 260ms/step - loss: 0.0127 - mae: 0.1194 - val_loss: 0.0308 - val_mae: 0.1917\n",
            "Epoch 98/100\n",
            "33/33 [==============================] - 10s 291ms/step - loss: 0.0120 - mae: 0.1171 - val_loss: 0.0305 - val_mae: 0.1933\n",
            "Epoch 99/100\n",
            "33/33 [==============================] - 9s 263ms/step - loss: 0.0116 - mae: 0.1162 - val_loss: 0.0308 - val_mae: 0.1918\n",
            "Epoch 100/100\n",
            "33/33 [==============================] - 8s 239ms/step - loss: 0.0126 - mae: 0.1203 - val_loss: 0.0304 - val_mae: 0.1942\n"
          ]
        }
      ],
      "source": [
        "optimizer = tf.keras.optimizers.Adam()\n",
        "model.compile(\n",
        "    loss=tf.keras.losses.Huber(),\n",
        "    optimizer=optimizer,\n",
        "    metrics=[\"mae\"]\n",
        "    )\n",
        "history = model.fit(\n",
        "    train_set,\n",
        "    batch_size=32, \n",
        "    epochs=100, \n",
        "    validation_data=valid_set\n",
        "    )"
      ]
    },
    {
      "cell_type": "code",
      "execution_count": null,
      "metadata": {
        "colab": {
          "background_save": true
        },
        "id": "ZTjGjW5iZH6S",
        "outputId": "8e9387d1-3946-432d-9039-120233c0a3af"
      },
      "outputs": [
        {
          "data": {
            "image/png": "[encoded data removed]",
            "text/plain": [
              "<Figure size 640x480 with 1 Axes>"
            ]
          },
          "metadata": {},
          "output_type": "display_data"
        }
      ],
      "source": [
        "plt.plot(history.history['loss'])\n",
        "plt.plot(history.history['val_loss'])\n",
        "plt.title('model loss')\n",
        "plt.ylabel('loss')\n",
        "plt.xlabel('epoch')\n",
        "plt.legend(['train', 'val'], loc='upper left')\n",
        "plt.show()"
      ]
    }
  ],
  "metadata": {
    "colab": {
      "provenance": []
    },
    "kernelspec": {
      "display_name": "Python 3",
      "name": "python3"
    },
    "language_info": {
      "name": "python"
    }
  },
  "nbformat": 4,
  "nbformat_minor": 0
}